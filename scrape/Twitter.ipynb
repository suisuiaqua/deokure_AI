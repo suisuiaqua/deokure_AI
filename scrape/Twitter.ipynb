{
  "cells": [
    {
      "cell_type": "code",
      "execution_count": 1,
      "metadata": {},
      "outputs": [],
      "source": [
        "import pandas as pd\n",
        "from selenium import webdriver\n",
        "from selenium.webdriver import Chrome\n",
        "from selenium.webdriver.common.by import By\n",
        "from selenium.webdriver.chrome.options import Options\n",
        "from time import sleep"
      ]
    },
    {
      "cell_type": "code",
      "execution_count": 90,
      "metadata": {},
      "outputs": [],
      "source": [
        "save = \"東京 11R 出遅れ予測ランキング\\n\\r\\n\\r1位 : 6 メイショウハリオ\\n\\r2位 : 12 セキフウ\\n\\r3位 : 15 レッドルゼル\\n\\r4位 : 3 ケンシンコウ\\n\\r5位 : 9 ショウナンナデシコ\\n\\r\\n\\r\\n\\r#東京11R  #競馬 #出遅れ予測\""
      ]
    },
    {
      "cell_type": "code",
      "execution_count": 73,
      "metadata": {},
      "outputs": [],
      "source": [
        "import emoji\n",
        "save = \"東京 11R 出遅れ予測ランキング\\U0001F3AF\\n\\r1位 : 6 メイショウハリオ\""
      ]
    },
    {
      "cell_type": "code",
      "execution_count": 44,
      "metadata": {},
      "outputs": [],
      "source": [
        "save = save.encode('unicode_escape').decode('utf-8')"
      ]
    },
    {
      "cell_type": "code",
      "execution_count": 24,
      "metadata": {},
      "outputs": [],
      "source": [
        "result = []"
      ]
    },
    {
      "cell_type": "code",
      "execution_count": 25,
      "metadata": {},
      "outputs": [],
      "source": [
        "result.append(\"東京 11R 出遅れ予測ランキング\")\n",
        "result.append(\"\")\n",
        "result.append(\"🥇1位 : 6 メイショウハリオ\")\n",
        "result.append(\"🥈2位 : 12 セキフウ\")\n",
        "result.append(\"🥉3位 : 15 レッドルゼル\")\n",
        "result.append(\"🪄4位 : 3 ケンシンコウ\")\n",
        "result.append(\"🪄5位 : 9 ショウナンナデシコ\")\n",
        "result.append(\"\")\n",
        "result.append(\"#東京11R  #競馬 #出遅れ予測\")"
      ]
    },
    {
      "cell_type": "code",
      "execution_count": 85,
      "metadata": {},
      "outputs": [],
      "source": [
        "save = \"東京 11R 出遅れ予測ランキング🎯\""
      ]
    },
    {
      "cell_type": "code",
      "execution_count": 48,
      "metadata": {},
      "outputs": [],
      "source": [
        "from html import unescape"
      ]
    },
    {
      "cell_type": "code",
      "execution_count": null,
      "metadata": {},
      "outputs": [],
      "source": [
        "options = Options() \n",
        "# options.add_argument('--headless')\n",
        "options.add_argument('--disable-gpu')             \n",
        "options.add_argument('--disable-extensions')       \n",
        "options.add_argument('--proxy-server=\"direct://\"') \n",
        "options.add_argument('--proxy-bypass-list=*')      \n",
        "options.add_argument('--start-maximized')\n",
        "options.add_argument(\"--font-family=Noto Color Emoji\")     \n",
        "driver = Chrome(executable_path=\"\", options=options)\n",
        "\n",
        "target_url = \"https://twitter.com/i/flow/login\"\n",
        "driver.get(target_url)\n",
        "sleep(1)\n",
        "\n",
        "userName = driver.find_elements(By.XPATH,'//*[@id=\"layers\"]/div/div/div/div/div/div/div[2]/div[2]/div/div/div[2]/div[2]/div/div/div/div[5]/label')\n",
        "sleep(1)\n",
        "userName[0].send_keys(\"\")\n",
        "\n",
        "\n",
        "clickBtn = driver.find_elements(By.XPATH,'//*[@id=\"layers\"]/div/div/div/div/div/div/div[2]/div[2]/div/div/div[2]/div[2]/div/div/div/div[6]/div/span/span')\n",
        "\n",
        "sleep(1)\n",
        "clickBtn[0].click()\n",
        "\n",
        "sleep(1)\n",
        "password = driver.find_elements(By.XPATH, '//*[@id=\"layers\"]/div/div/div/div/div/div/div[2]/div[2]/div/div/div[2]/div[2]/div[1]/div/div/div[3]/div/label')\n",
        "sleep(1)\n",
        "password[0].send_keys(\"\")\n",
        "\n",
        "\n",
        "\n",
        "sleep(1)\n",
        "clickBtn = driver.find_elements(By.XPATH, '//*[@id=\"layers\"]/div/div/div/div/div/div/div[2]/div[2]/div/div/div[2]/div[2]/div[2]/div/div[1]/div/div/div/div')\n",
        "sleep(1)\n",
        "clickBtn[0].click()\n",
        "\n",
        "try:\n",
        "    sleep(1)\n",
        "    advertisement = driver.find_elements(By.XPATH, '//*[@id=\"layers\"]/div[2]/div/div/div/div/div/div[2]/div[2]/div/div[1]/div/div/div/div[1]/div/div')\n",
        "    sleep(1)\n",
        "    advertisement[0].click()\n",
        "except Exception:\n",
        "    print('広告表示なし')\n",
        "\n",
        "sleep(2)\n",
        "text = driver.find_elements(By.XPATH, \n",
        "    '//*[@id=\"react-root\"]/div/div/div[2]/main/div/div/div/div[1]/div/div[3]/div/div[2]/div[1]/div/div/div/div[2]/div[1]/div/div/div/div/div/div/div/div/div/div/label/div[1]/div')\n",
        "sleep(1)\n",
        "text[0].click()\n",
        "\n",
        "sleep(1)\n",
        "text = driver.find_elements(By.XPATH, \n",
        "    '//*[@id=\"react-root\"]/div/div/div[2]/main/div/div/div/div/div/div[3]/div/div[2]/div[1]/div/div/div/div[2]/div[1]/div/div/div/div/div/div[2]/div/div/div/div/label/div[1]/div/div/div/div/div/div[2]/div')\n",
        "sleep(1)\n",
        "\n",
        "# 出力したい文字列を埋め込む\n",
        "text[0].send_keys(save)\n",
        "\n",
        "text = driver.find_elements(By.XPATH,'//*[@id=\"react-root\"]/div/div/div[2]/main/div/div/div/div[1]/div/div[3]/div/div[2]/div[1]/div/div/div/div[2]/div[3]/div/div/div[2]/div[3]/div/span/span')\n",
        "sleep(1)\n",
        "text[0].click()\n",
        "\n",
        "driver.quit()\n",
        "\n"
      ]
    }
  ],
  "metadata": {
    "kernelspec": {
      "display_name": "Python 3.10.6 64-bit",
      "language": "python",
      "name": "python3"
    },
    "language_info": {
      "codemirror_mode": {
        "name": "ipython",
        "version": 3
      },
      "file_extension": ".py",
      "mimetype": "text/x-python",
      "name": "python",
      "nbconvert_exporter": "python",
      "pygments_lexer": "ipython3",
      "version": "3.10.6"
    },
    "orig_nbformat": 4,
    "vscode": {
      "interpreter": {
        "hash": "b47f45c18499de3d80696c681856b513a5ea4c2414069b55f1d3ac496fdc2728"
      }
    }
  },
  "nbformat": 4,
  "nbformat_minor": 2
}
