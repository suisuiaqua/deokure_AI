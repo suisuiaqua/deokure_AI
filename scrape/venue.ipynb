{
  "cells": [
    {
      "cell_type": "code",
      "execution_count": 1,
      "metadata": {},
      "outputs": [],
      "source": [
        "import pandas as pd\n",
        "from selenium import webdriver\n",
        "from selenium.webdriver import Chrome\n",
        "from selenium.webdriver.common.by import By\n",
        "from selenium.webdriver.chrome.options import Options\n",
        "from time import sleep\n",
        "from selenium import webdriver\n",
        "from selenium.webdriver.chrome.service import Service\n",
        "from selenium.webdriver.common.by import By\n",
        "from selenium.webdriver.chrome.options import Options\n",
        "from tqdm.notebook import tqdm"
      ]
    },
    {
      "cell_type": "code",
      "execution_count": null,
      "metadata": {},
      "outputs": [],
      "source": [
        "options = Options() \n",
        "options.add_argument('--headless')\n",
        "options.add_argument('--disable-gpu')             \n",
        "options.add_argument('--disable-extensions')       \n",
        "options.add_argument('--proxy-server=\"direct://\"') \n",
        "options.add_argument('--proxy-bypass-list=*')      \n",
        "options.add_argument('--start-maximized')      \n",
        "driver = Chrome(executable_path=\"\", options=options)"
      ]
    },
    {
      "cell_type": "code",
      "execution_count": 4,
      "metadata": {},
      "outputs": [],
      "source": [
        "target_url = \"https://race.netkeiba.com/top/?rf=navi\"\n",
        "driver.get(target_url)\n",
        "sleep(1)\n",
        "\n",
        "raceTopRaceList = []\n",
        "raceTopRaceNumList = []\n",
        "for i in range(1,5):\n",
        "    try:\n",
        "        sleep(1)\n",
        "        raceTopRace = driver.find_elements(By.XPATH,'//*[@id=\"RaceTopRace\"]/div/dl['+str(i)+']/dt/div[1]/p')\n",
        "        raceTopRaceList.append(raceTopRace[0].text.split(' ')[1])\n",
        "        raceTopRaceNumList.append(str(i))\n",
        "    except Exception:\n",
        "        break\n",
        "racePlace = dict(zip(raceTopRaceList, raceTopRaceNumList))\n"
      ]
    },
    {
      "cell_type": "code",
      "execution_count": null,
      "metadata": {},
      "outputs": [],
      "source": [
        "driver = Chrome(executable_path=\"\", options=options)\n",
        "target_url = \"https://race.netkeiba.com/top/?rf=navi\"\n",
        "driver.get(target_url)\n",
        "sleep(1)\n",
        "\n",
        "result = driver.find_elements(By.XPATH,\"//*[@id='RaceTopRace']/div/dl[1]/dd/ul/li[8]/a[1]\")\n",
        "result = result[0].get_attribute('href')\n",
        "driver.close()"
      ]
    },
    {
      "cell_type": "code",
      "execution_count": null,
      "metadata": {},
      "outputs": [],
      "source": [
        "result"
      ]
    }
  ],
  "metadata": {
    "kernelspec": {
      "display_name": "Python 3.10.6 64-bit",
      "language": "python",
      "name": "python3"
    },
    "language_info": {
      "codemirror_mode": {
        "name": "ipython",
        "version": 3
      },
      "file_extension": ".py",
      "mimetype": "text/x-python",
      "name": "python",
      "nbconvert_exporter": "python",
      "pygments_lexer": "ipython3",
      "version": "3.10.6"
    },
    "orig_nbformat": 4,
    "vscode": {
      "interpreter": {
        "hash": "b47f45c18499de3d80696c681856b513a5ea4c2414069b55f1d3ac496fdc2728"
      }
    }
  },
  "nbformat": 4,
  "nbformat_minor": 2
}
