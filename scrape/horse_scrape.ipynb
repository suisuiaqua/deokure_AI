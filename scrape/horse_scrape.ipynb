{
  "cells": [
    {
      "cell_type": "code",
      "execution_count": 1,
      "metadata": {},
      "outputs": [],
      "source": [
        "import pandas as pd\n",
        "from selenium import webdriver\n",
        "from selenium.webdriver import Chrome\n",
        "from selenium.webdriver.common.by import By\n",
        "from selenium.webdriver.chrome.options import Options\n",
        "from time import sleep"
      ]
    },
    {
      "cell_type": "code",
      "execution_count": 2,
      "metadata": {},
      "outputs": [],
      "source": [
        "df = pd.read_pickle('new_results__horse_jockey_2022.pickle')"
      ]
    },
    {
      "cell_type": "code",
      "execution_count": 8,
      "metadata": {},
      "outputs": [],
      "source": [
        "horse_id_list = df['horse_id'].unique()"
      ]
    },
    {
      "cell_type": "code",
      "execution_count": null,
      "metadata": {},
      "outputs": [],
      "source": [
        "from selenium import webdriver\n",
        "from selenium.webdriver.chrome.service import Service\n",
        "from selenium.webdriver.common.by import By\n",
        "from selenium.webdriver.chrome.options import Options\n",
        "from tqdm.notebook import tqdm\n",
        " \n",
        "options = Options() \n",
        "options.add_argument('--headless')\n",
        "options.add_argument('--disable-gpu')             \n",
        "options.add_argument('--disable-extensions')       \n",
        "options.add_argument('--proxy-server=\"direct://\"') \n",
        "options.add_argument('--proxy-bypass-list=*')      \n",
        "options.add_argument('--start-maximized')      \n",
        "driver = Chrome(executable_path=\"\", options=options)\n",
        "\n",
        "target_url = \"https://regist.netkeiba.com/account/?pid=login\"\n",
        "driver.get(target_url)\n",
        "sleep(1)\n",
        "\n",
        "USERNAME = \"\"\n",
        "PASSWORD = \"\"\n",
        "\n",
        "username_input = driver.find_elements(By.XPATH,'//*[@id=\"contents\"]/div/form/div/ul/li[1]/input')\n",
        "username_input[0].send_keys(USERNAME)\n",
        "sleep(1)\n",
        "\n",
        "username_input = driver.find_elements(By.XPATH,'//*[@id=\"contents\"]/div/form/div/ul/li[2]/input')\n",
        "username_input[0].send_keys(PASSWORD)\n",
        "sleep(1)\n",
        "\n",
        "username_input = driver.find_elements(By.XPATH,'//*[@id=\"contents\"]/div/form/div/div[1]/input')\n",
        "username_input[0].click()\n",
        "sleep(1)\n",
        "\n",
        "deokure_count_detail = {}\n",
        "for horse_id in tqdm(horse_id_list):\n",
        "    try:\n",
        "        sleep(1)\n",
        "        rece = driver.get('https://db.netkeiba.com/horse/' + horse_id)\n",
        "        sleep(1)\n",
        "        table = driver.find_elements(By.XPATH,'//*[@id=\"contents\"]/div[4]/div/table')\n",
        "        html = table[0].get_attribute('outerHTML')\n",
        "\n",
        "        deokureCount = 0\n",
        "        for i in range(len(pd.read_html(html)[0])):\n",
        "            if '出遅れ' == pd.read_html(html)[0].loc[[i]]['備考'][i]:\n",
        "                deokureCount = deokureCount + 1\n",
        "\n",
        "        horse_detail_list = []\n",
        "        horse_detail = []\n",
        "        horse_detail.append(deokureCount)\n",
        "        horse_detail.append(len(pd.read_html(html)[0]))\n",
        "        horse_detail.append(horse_id)\n",
        "        horse_detail_list.append(horse_detail)\n",
        "        deokure_count_detail[horse_id] = pd.DataFrame(horse_detail_list,columns=['deokureNum','raceNum','horse_id'])\n",
        "    except Exception:\n",
        "        continue\n",
        "\n",
        "for key in deokure_count_detail:\n",
        "    deokure_count_detail[key].index = [key] * len(deokure_count_detail[key])\n",
        "results = pd.concat([deokure_count_detail[key] for key in deokure_count_detail], sort=False)\n",
        "results.to_pickle('horse_id_list.pickle')"
      ]
    }
  ],
  "metadata": {
    "kernelspec": {
      "display_name": "Python 3.10.6 64-bit",
      "language": "python",
      "name": "python3"
    },
    "language_info": {
      "codemirror_mode": {
        "name": "ipython",
        "version": 3
      },
      "file_extension": ".py",
      "mimetype": "text/x-python",
      "name": "python",
      "nbconvert_exporter": "python",
      "pygments_lexer": "ipython3",
      "version": "3.10.6"
    },
    "orig_nbformat": 4,
    "vscode": {
      "interpreter": {
        "hash": "b47f45c18499de3d80696c681856b513a5ea4c2414069b55f1d3ac496fdc2728"
      }
    }
  },
  "nbformat": 4,
  "nbformat_minor": 2
}
