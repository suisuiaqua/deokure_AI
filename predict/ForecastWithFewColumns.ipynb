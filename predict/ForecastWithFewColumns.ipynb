{
  "cells": [
    {
      "cell_type": "code",
      "execution_count": null,
      "metadata": {},
      "outputs": [],
      "source": [
        "import pandas as pd\n",
        "from sklearn.model_selection import train_test_split\n",
        "from lightgbm import LGBMClassifier\n",
        "from sklearn import model_selection\n",
        "import numpy as np\n",
        "import re\n",
        "import pickle\n",
        "from sklearn.ensemble import RandomForestRegressor\n",
        "from selenium import webdriver\n",
        "from selenium.webdriver.chrome.service import Service\n",
        "from selenium.webdriver.common.by import By\n",
        "from selenium.webdriver.chrome.options import Options\n",
        "from selenium.webdriver import Chrome\n",
        "from time import sleep\n",
        "from tqdm.notebook import tqdm\n",
        "\n",
        "\n",
        "options = Options() \n",
        "options.add_argument('--headless')\n",
        "options.add_argument('--disable-gpu')             \n",
        "options.add_argument('--disable-extensions')       \n",
        "options.add_argument('--proxy-server=\"direct://\"') \n",
        "options.add_argument('--proxy-bypass-list=*')      \n",
        "options.add_argument('--start-maximized')      \n",
        "driver = Chrome(executable_path=\"\", options=options)"
      ]
    },
    {
      "cell_type": "code",
      "execution_count": 84,
      "metadata": {},
      "outputs": [],
      "source": [
        "id = '202306020203'"
      ]
    },
    {
      "cell_type": "code",
      "execution_count": 85,
      "metadata": {},
      "outputs": [],
      "source": [
        "url = 'https://race.netkeiba.com/race/shutuba.html?race_id=' + id"
      ]
    },
    {
      "cell_type": "code",
      "execution_count": 86,
      "metadata": {},
      "outputs": [],
      "source": [
        "df = pd.read_html(url)[0]\n",
        "newCol = []\n",
        "for i in df.columns:\n",
        "    newCol.append(i[0])\n",
        "df.columns = newCol"
      ]
    },
    {
      "cell_type": "code",
      "execution_count": 87,
      "metadata": {},
      "outputs": [],
      "source": [
        "\n",
        "target_url = url\n",
        "driver.get(target_url)\n",
        "sleep(1)\n",
        "\n",
        "table = driver.find_elements(By.XPATH,'//*[@id=\"page\"]/div[3]/div[2]/table/tbody/tr')\n",
        "horse_jockey_id = []\n",
        "for i in range(1,len(table)+1):\n",
        "    result_id = []\n",
        "\n",
        "    # horse_id\n",
        "    sleep(1)\n",
        "    horse_id = driver.find_elements(By.XPATH,'//*[@id=\"page\"]/div[3]/div[2]/table/tbody/tr[' + str(i) +']/td[4]')\n",
        "    horse_id = re.sub( r'\\D+', '', horse_id[0].get_attribute('outerHTML').split('/horse')[1].split('title')[0])\n",
        "    result_id.append(horse_id)\n",
        "\n",
        "    # jockey_id\n",
        "    sleep(1)\n",
        "    jockey_id = driver.find_elements(By.XPATH,'//*[@id=\"page\"]/div[3]/div[2]/table/tbody/tr[' + str(i) +']/td[7]')\n",
        "    jockey_id = re.sub( r'\\D+', '', jockey_id[0].get_attribute('outerHTML').split('/recent')[1])\n",
        "    result_id.append(jockey_id)\n",
        "\n",
        "    horse_jockey_id.append(result_id)  \n",
        "\n",
        "df = pd.concat([df, pd.DataFrame(horse_jockey_id,columns=['horse_id', 'jockey_id'])], axis=1)"
      ]
    },
    {
      "cell_type": "code",
      "execution_count": null,
      "metadata": {},
      "outputs": [],
      "source": [
        "horse_id_list = df['horse_id']\n",
        "target_url = \"https://regist.netkeiba.com/account/?pid=login\"\n",
        "driver.get(target_url)\n",
        "sleep(1)\n",
        "\n",
        "USERNAME = \"\"\n",
        "PASSWORD = \n",
        "\n",
        "username_input = driver.find_elements(By.XPATH,'//*[@id=\"contents\"]/div/form/div/ul/li[1]/input')\n",
        "username_input[0].send_keys(USERNAME)\n",
        "sleep(1)\n",
        "\n",
        "username_input = driver.find_elements(By.XPATH,'//*[@id=\"contents\"]/div/form/div/ul/li[2]/input')\n",
        "username_input[0].send_keys(PASSWORD)\n",
        "sleep(1)\n",
        "\n",
        "username_input = driver.find_elements(By.XPATH,'//*[@id=\"contents\"]/div/form/div/div[1]/input')\n",
        "username_input[0].click()\n",
        "sleep(1)\n",
        "\n",
        "deokure_count_detail = {}\n",
        "for horse_id in tqdm(horse_id_list):\n",
        "    try:\n",
        "        sleep(1)\n",
        "        rece = driver.get('https://db.netkeiba.com/horse/' + horse_id)\n",
        "        sleep(1)\n",
        "        table = driver.find_elements(By.XPATH,'//*[@id=\"contents\"]/div[4]/div/table')\n",
        "        html = table[0].get_attribute('outerHTML')\n",
        "\n",
        "        deokureCount = 0\n",
        "        for i in range(len(pd.read_html(html)[0])):\n",
        "            if '出遅れ' == pd.read_html(html)[0].loc[[i]]['備考'][i]:\n",
        "                deokureCount = deokureCount + 1\n",
        "\n",
        "        horse_detail_list = []\n",
        "        horse_detail = []\n",
        "        horse_detail.append(deokureCount)\n",
        "        horse_detail.append(len(pd.read_html(html)[0]))\n",
        "        horse_detail_list.append(horse_detail)\n",
        "        deokure_count_detail[horse_id] = pd.DataFrame(horse_detail_list,columns=['deokureNum','raceNum'])\n",
        "    except Exception:\n",
        "        continue\n",
        "\n",
        "for key in deokure_count_detail:\n",
        "    deokure_count_detail[key].index = [key] * len(deokure_count_detail[key])\n",
        "results = pd.concat([deokure_count_detail[key] for key in deokure_count_detail], sort=False)\n",
        "results = results.reset_index()\n",
        "df = pd.concat([df, results], axis=1)"
      ]
    },
    {
      "cell_type": "code",
      "execution_count": 89,
      "metadata": {},
      "outputs": [],
      "source": [
        "import urllib.request\n",
        "from bs4 import BeautifulSoup\n",
        "\n",
        "res = urllib.request.urlopen(url)\n",
        "soup = BeautifulSoup(res, 'html.parser')\n",
        "raceDate = soup.select('.RaceData01')\n",
        "raceDate = raceDate[0].text.replace(' ', '')"
      ]
    },
    {
      "cell_type": "code",
      "execution_count": 90,
      "metadata": {},
      "outputs": [],
      "source": [
        "initial_Value = df.copy()"
      ]
    },
    {
      "cell_type": "code",
      "execution_count": 91,
      "metadata": {},
      "outputs": [
        {
          "data": {
            "text/plain": [
              "0      2\n",
              "1     12\n",
              "2       \n",
              "3      6\n",
              "4      6\n",
              "5      2\n",
              "6      6\n",
              "7      6\n",
              "8       \n",
              "9      2\n",
              "10      \n",
              "11     6\n",
              "12     2\n",
              "13     6\n",
              "14     8\n",
              "15     2\n",
              "Name: 馬体重(増減), dtype: object"
            ]
          },
          "execution_count": 91,
          "metadata": {},
          "output_type": "execute_result"
        }
      ],
      "source": [
        "df['馬体重(増減)'].str[4:].str.replace(')','', regex=True).str[1:]"
      ]
    },
    {
      "cell_type": "code",
      "execution_count": 92,
      "metadata": {},
      "outputs": [],
      "source": [
        "df['性別'] = df['性齢'].str[0]\n",
        "df['年齢'] = df['性齢'].str[1:3]\n",
        "df['年齢'] = df['年齢'].astype(int)\n",
        "df.drop('性齢', axis=1,inplace=True)\n",
        "result = []\n",
        "for i  in df['馬体重(増減)'].str[4:].str.replace(')','', regex=True).str[0]:\n",
        "    if i=='+':\n",
        "        result.append(1)\n",
        "    elif i=='-':\n",
        "        result.append(2)\n",
        "    else:\n",
        "        result.append(0)\n",
        "\n",
        "df['加減'] = result\n",
        "df['体重増減'] = df['馬体重(増減)'].str[4:].str.replace(')','', regex=True).str[1:]\n",
        "df.loc[(df.体重増減 == ''), '体重増減'] = '0'\n",
        "df.loc[(df.体重増減 == '計不'), '体重増減'] = '0'\n",
        "df['体重増減'] = df['体重増減'].astype(int)\n",
        "df['馬体重'] = df['馬体重(増減)'].str[0:3]\n",
        "# df.loc[(df.馬体重 !='計不'), ['馬体重']].astype(float).mean().round().astype(int)\n",
        "df.loc[(df.馬体重=='計不'), '馬体重'] = '471'\n",
        "df.loc[(df.馬体重=='--'), '馬体重'] = '471'\n",
        "df['馬体重'] = df['馬体重'].astype(int)"
      ]
    },
    {
      "cell_type": "code",
      "execution_count": 93,
      "metadata": {},
      "outputs": [],
      "source": [
        "df.drop(['印', '馬名','枠','人気', '騎手', 'お気に入り馬', 'Unnamed: 9_level_0', '厩舎', '馬体重(増減)','index'], axis=1, inplace=True)"
      ]
    },
    {
      "cell_type": "code",
      "execution_count": 94,
      "metadata": {},
      "outputs": [],
      "source": [
        "df['horse_id'] = df['horse_id'].astype(int)\n",
        "df['jockey_id'] = df['jockey_id'].astype(int)"
      ]
    },
    {
      "cell_type": "code",
      "execution_count": 95,
      "metadata": {},
      "outputs": [],
      "source": [
        "dummy = df[['性別']]\n",
        "dummy = pd.get_dummies(dummy)\n",
        "newDf = pd.concat([df, dummy], axis=1)\n",
        "newDf.drop(['性別'],axis=1,inplace=True)"
      ]
    },
    {
      "cell_type": "code",
      "execution_count": 96,
      "metadata": {},
      "outputs": [],
      "source": [
        "newDf = newDf[['jockey_id', 'deokureNum', 'raceNum', '馬体重', '体重増減', '馬番', '斤量', '加減']]"
      ]
    },
    {
      "cell_type": "code",
      "execution_count": 97,
      "metadata": {},
      "outputs": [
        {
          "data": {
            "text/html": [
              "<style>#sk-container-id-4 {color: black;background-color: white;}#sk-container-id-4 pre{padding: 0;}#sk-container-id-4 div.sk-toggleable {background-color: white;}#sk-container-id-4 label.sk-toggleable__label {cursor: pointer;display: block;width: 100%;margin-bottom: 0;padding: 0.3em;box-sizing: border-box;text-align: center;}#sk-container-id-4 label.sk-toggleable__label-arrow:before {content: \"▸\";float: left;margin-right: 0.25em;color: #696969;}#sk-container-id-4 label.sk-toggleable__label-arrow:hover:before {color: black;}#sk-container-id-4 div.sk-estimator:hover label.sk-toggleable__label-arrow:before {color: black;}#sk-container-id-4 div.sk-toggleable__content {max-height: 0;max-width: 0;overflow: hidden;text-align: left;background-color: #f0f8ff;}#sk-container-id-4 div.sk-toggleable__content pre {margin: 0.2em;color: black;border-radius: 0.25em;background-color: #f0f8ff;}#sk-container-id-4 input.sk-toggleable__control:checked~div.sk-toggleable__content {max-height: 200px;max-width: 100%;overflow: auto;}#sk-container-id-4 input.sk-toggleable__control:checked~label.sk-toggleable__label-arrow:before {content: \"▾\";}#sk-container-id-4 div.sk-estimator input.sk-toggleable__control:checked~label.sk-toggleable__label {background-color: #d4ebff;}#sk-container-id-4 div.sk-label input.sk-toggleable__control:checked~label.sk-toggleable__label {background-color: #d4ebff;}#sk-container-id-4 input.sk-hidden--visually {border: 0;clip: rect(1px 1px 1px 1px);clip: rect(1px, 1px, 1px, 1px);height: 1px;margin: -1px;overflow: hidden;padding: 0;position: absolute;width: 1px;}#sk-container-id-4 div.sk-estimator {font-family: monospace;background-color: #f0f8ff;border: 1px dotted black;border-radius: 0.25em;box-sizing: border-box;margin-bottom: 0.5em;}#sk-container-id-4 div.sk-estimator:hover {background-color: #d4ebff;}#sk-container-id-4 div.sk-parallel-item::after {content: \"\";width: 100%;border-bottom: 1px solid gray;flex-grow: 1;}#sk-container-id-4 div.sk-label:hover label.sk-toggleable__label {background-color: #d4ebff;}#sk-container-id-4 div.sk-serial::before {content: \"\";position: absolute;border-left: 1px solid gray;box-sizing: border-box;top: 0;bottom: 0;left: 50%;z-index: 0;}#sk-container-id-4 div.sk-serial {display: flex;flex-direction: column;align-items: center;background-color: white;padding-right: 0.2em;padding-left: 0.2em;position: relative;}#sk-container-id-4 div.sk-item {position: relative;z-index: 1;}#sk-container-id-4 div.sk-parallel {display: flex;align-items: stretch;justify-content: center;background-color: white;position: relative;}#sk-container-id-4 div.sk-item::before, #sk-container-id-4 div.sk-parallel-item::before {content: \"\";position: absolute;border-left: 1px solid gray;box-sizing: border-box;top: 0;bottom: 0;left: 50%;z-index: -1;}#sk-container-id-4 div.sk-parallel-item {display: flex;flex-direction: column;z-index: 1;position: relative;background-color: white;}#sk-container-id-4 div.sk-parallel-item:first-child::after {align-self: flex-end;width: 50%;}#sk-container-id-4 div.sk-parallel-item:last-child::after {align-self: flex-start;width: 50%;}#sk-container-id-4 div.sk-parallel-item:only-child::after {width: 0;}#sk-container-id-4 div.sk-dashed-wrapped {border: 1px dashed gray;margin: 0 0.4em 0.5em 0.4em;box-sizing: border-box;padding-bottom: 0.4em;background-color: white;}#sk-container-id-4 div.sk-label label {font-family: monospace;font-weight: bold;display: inline-block;line-height: 1.2em;}#sk-container-id-4 div.sk-label-container {text-align: center;}#sk-container-id-4 div.sk-container {/* jupyter's `normalize.less` sets `[hidden] { display: none; }` but bootstrap.min.css set `[hidden] { display: none !important; }` so we also need the `!important` here to be able to override the default hidden behavior on the sphinx rendered scikit-learn.org. See: https://github.com/scikit-learn/scikit-learn/issues/21755 */display: inline-block !important;position: relative;}#sk-container-id-4 div.sk-text-repr-fallback {display: none;}</style><div id=\"sk-container-id-4\" class=\"sk-top-container\"><div class=\"sk-text-repr-fallback\"><pre>LGBMClassifier(colsample_bytree=0.9, learning_rate=0.01, max_depth=5,\n",
              "               min_child_samples=30, n_estimators=1000, num_leaves=127,\n",
              "               reg_alpha=0, reg_lambda=0.1, subsample=0.8)</pre><b>In a Jupyter environment, please rerun this cell to show the HTML representation or trust the notebook. <br />On GitHub, the HTML representation is unable to render, please try loading this page with nbviewer.org.</b></div><div class=\"sk-container\" hidden><div class=\"sk-item\"><div class=\"sk-estimator sk-toggleable\"><input class=\"sk-toggleable__control sk-hidden--visually\" id=\"sk-estimator-id-4\" type=\"checkbox\" checked><label for=\"sk-estimator-id-4\" class=\"sk-toggleable__label sk-toggleable__label-arrow\">LGBMClassifier</label><div class=\"sk-toggleable__content\"><pre>LGBMClassifier(colsample_bytree=0.9, learning_rate=0.01, max_depth=5,\n",
              "               min_child_samples=30, n_estimators=1000, num_leaves=127,\n",
              "               reg_alpha=0, reg_lambda=0.1, subsample=0.8)</pre></div></div></div></div></div>"
            ],
            "text/plain": [
              "LGBMClassifier(colsample_bytree=0.9, learning_rate=0.01, max_depth=5,\n",
              "               min_child_samples=30, n_estimators=1000, num_leaves=127,\n",
              "               reg_alpha=0, reg_lambda=0.1, subsample=0.8)"
            ]
          },
          "execution_count": 97,
          "metadata": {},
          "output_type": "execute_result"
        }
      ],
      "source": [
        "import pandas as pd\n",
        "from sklearn.model_selection import train_test_split\n",
        "from lightgbm import LGBMClassifier\n",
        "from sklearn import model_selection\n",
        "import numpy as np\n",
        "import re\n",
        "from sklearn.ensemble import RandomForestRegressor\n",
        "import lightgbm as lgb\n",
        "\n",
        "df1 = pd.read_pickle('')\n",
        "df2 = pd.read_pickle('')\n",
        "df3 = pd.read_pickle('')\n",
        "df4 = pd.read_pickle('')\n",
        "df = pd.concat([df1,df2,df3],axis=1)\n",
        "df = df.merge(df4, on='horse_id')\n",
        "\n",
        "df.drop(['タイム', '着差', '着順', '馬名', 'ﾀｲﾑ指数', '通過', '上り', '調教ﾀｲﾑ', '厩舎ｺﾒﾝﾄ', '賞金(万円)','調教師','枠番','人気','馬主', '騎手', '単勝'], axis=1, inplace=True)\n",
        "\n",
        "df = df.drop_duplicates(subset=df.columns)\n",
        "\n",
        "result = []\n",
        "for i in  df['time']:\n",
        "    try:\n",
        "         appendResult = i.split(':')[0]\n",
        "         appendResult = re.sub( r'\\D+', '', appendResult)\n",
        "         if(appendResult == ''):\n",
        "            result.append(0)\n",
        "            continue\n",
        "         result.append(appendResult)\n",
        "    except IndexError:\n",
        "        result.append(0)\n",
        "        continue\n",
        "        \n",
        "\n",
        "df['timeHour'] = result\n",
        "df.drop('time', axis=1, inplace=True)\n",
        "\n",
        "result = []\n",
        "for i in df['situation']:\n",
        "    if(i == \"良\"):\n",
        "        result.append(0)\n",
        "    elif(i==\"稍重\"):\n",
        "        result.append(1)\n",
        "    elif(i==\"重\"):\n",
        "        result.append(2)\n",
        "    else:\n",
        "        result.append(3)\n",
        "df['situation'] = result\n",
        "\n",
        "result = []\n",
        "for i in df['whether']:\n",
        "    if(i == \"晴\"):\n",
        "        result.append(0)\n",
        "    elif(i==\"曇\"):\n",
        "        result.append(1)\n",
        "    elif(i==\"雨\"):\n",
        "        result.append(2)\n",
        "    else:\n",
        "        result.append(3)\n",
        "df['whether'] = result\n",
        "\n",
        "result = []\n",
        "for i in df['distance']:\n",
        "    result.append(re.sub( r'\\D+', '', i))\n",
        "df['distance'] = result\n",
        "df['distance'] = df['distance'].astype(int)\n",
        "\n",
        "df.loc[(df.rightORleft=='芝'), 'rightORleft'] = np.nan\n",
        "\n",
        "result = []\n",
        "for i in df['track']:\n",
        "    if(i == \"ダ\"):\n",
        "        result.append(0)\n",
        "    elif(i==\"芝\"):\n",
        "        result.append(1)\n",
        "    else:\n",
        "        result.append(2)\n",
        "df['track'] = result\n",
        "\n",
        "df['性別'] = df['性齢'].str[0]\n",
        "df['年齢'] = df['性齢'].str[1:3]\n",
        "df['年齢'] = df['年齢'].astype(int)\n",
        "df.drop('性齢', axis=1,inplace=True)\n",
        "\n",
        "result = []\n",
        "for i  in df['馬体重'].str[4:].str.replace(')','', regex=True).str[0]:\n",
        "    if i=='+':\n",
        "        result.append(1)\n",
        "    elif i=='-':\n",
        "        result.append(2)\n",
        "    else:\n",
        "        result.append(0)\n",
        "\n",
        "df['加減'] = result\n",
        "df['体重増減'] = df['馬体重'].str[4:].str.replace(')','', regex=True).str[1:]\n",
        "df.loc[(df.体重増減 == ''), '体重増減'] = '0'\n",
        "df['体重増減'] = df['体重増減'].astype(int)\n",
        "df['馬体重'] = df['馬体重'].str[0:3]\n",
        "# df.loc[(df.馬体重 !='計不'), ['馬体重']].astype(float).mean().round().astype(int)\n",
        "df.loc[(df.馬体重=='計不'), '馬体重'] = '471'\n",
        "df['馬体重'] = df['馬体重'].astype(int)\n",
        "\n",
        "\n",
        "result = []\n",
        "\n",
        "for i in df['備考']:\n",
        "    if i=='出遅れ':\n",
        "        result.append(1)\n",
        "    else:\n",
        "        result.append(0)\n",
        "\n",
        "df['出遅れ'] = result\n",
        "df.drop('備考', axis=1, inplace=True)\n",
        "\n",
        "df['timeHour'] = df['timeHour'].astype(int)\n",
        "dummy = df[['timeHour','性別','rightORleft']]\n",
        "dummy = pd.get_dummies(dummy)\n",
        "dummy = pd.concat([dummy, df[['斤量','馬体重', '馬番','馬体重','体重増減','加減','年齢']]], axis=1)\n",
        "\n",
        "known_tansyo = dummy[dummy.timeHour != 0].values  \n",
        "unknown_tansyo = dummy[dummy.timeHour == 0].values\n",
        "\n",
        "\n",
        "X = known_tansyo[:, 1:]  \n",
        "y = known_tansyo[:, 0]\n",
        "\n",
        "rfr = RandomForestRegressor(random_state=0, n_estimators=100, n_jobs=-1)\n",
        "rfr.fit(X, y)\n",
        "\n",
        "predictedTansyo = rfr.predict(unknown_tansyo[:, 1::])\n",
        "df.loc[(df.timeHour == 0), 'timeHour'] = predictedTansyo.round().astype(int)\n",
        "\n",
        "df['rightORleft'].fillna(\"右\", inplace=True)\n",
        "df['horse_id'] = df['horse_id'].astype(int)\n",
        "df['jockey_id'] = df['jockey_id'].astype(int)\n",
        "df['deokureNum'] = df['deokureNum'].astype(int)\n",
        "df['raceNum'] = df['raceNum'].astype(int)\n",
        "\n",
        "dummy = df[['rightORleft','性別']]\n",
        "dummy = pd.get_dummies(dummy)\n",
        "oldDf = pd.concat([df, dummy], axis=1)\n",
        "oldDf.drop(['rightORleft','性別'],axis=1,inplace=True)\n",
        "\n",
        "oldDf = oldDf[['jockey_id', 'deokureNum', 'raceNum', '馬体重', '体重増減', '馬番', '斤量', '加減','出遅れ']]\n",
        "X = oldDf.drop('出遅れ',axis=1)\n",
        "y = oldDf['出遅れ']\n",
        "params =  {'subsample': 0.8, 'reg_lambda': 0.1, 'reg_alpha': 0, 'num_leaves': 127, 'n_estimators': 1000, 'min_child_samples': 30, 'max_depth': 5, 'learning_rate': 0.01, 'colsample_bytree': 0.9}\n",
        "# params = {'subsample': 0.8, 'reg_lambda': 0.5, 'reg_alpha': 0, 'num_leaves': 31, 'n_estimators': 100, 'min_child_samples': 20, 'max_depth': 15, 'learning_rate': 0.05, 'colsample_bytree': 0.9}\n",
        "\n",
        "# LightGBMのモデルを定義する\n",
        "lgbm_clf = lgb.LGBMClassifier(**params)\n",
        "\n",
        "\n",
        "lgbm_clf.fit(X, y)"
      ]
    },
    {
      "cell_type": "code",
      "execution_count": 98,
      "metadata": {},
      "outputs": [],
      "source": [
        "from sklearn.metrics import accuracy_score \n",
        "y_pred = lgbm_clf.predict_proba(newDf)"
      ]
    },
    {
      "cell_type": "code",
      "execution_count": 99,
      "metadata": {},
      "outputs": [],
      "source": [
        "result = pd.DataFrame(y_pred, columns=['出遅れない', '出遅れ率'])['出遅れ率']"
      ]
    },
    {
      "cell_type": "code",
      "execution_count": 100,
      "metadata": {},
      "outputs": [],
      "source": [
        "test = pd.merge(result, initial_Value[['馬番', '馬名']],left_index=True, right_index=True).sort_values(by=\"出遅れ率\", ascending=False)"
      ]
    },
    {
      "cell_type": "code",
      "execution_count": 101,
      "metadata": {},
      "outputs": [],
      "source": [
        "import matplotlib.pyplot as plt\n",
        "plt.rcParams['font.family'] = 'MS Gothic'\n",
        "def TablePlot(df,outputPath,w,h):\n",
        "    fig, ax = plt.subplots(figsize=(w,h))\n",
        "    ax.axis('off')\n",
        "    ax.table(cellText=df.values,\n",
        "             colLabels=df.columns,\n",
        "             loc='center',\n",
        "             bbox=[0,0,1,1])\n",
        "    plt.savefig(outputPath)"
      ]
    },
    {
      "cell_type": "code",
      "execution_count": 102,
      "metadata": {},
      "outputs": [
        {
          "data": {
            "image/png": "[encoded data removed]",
            "text/plain": [
              "<Figure size 720x720 with 1 Axes>"
            ]
          },
          "metadata": {
            "needs_background": "light"
          },
          "output_type": "display_data"
        }
      ],
      "source": [
        "TablePlot(test, '', 10, 10)"
      ]
    },
    {
      "cell_type": "code",
      "execution_count": null,
      "metadata": {},
      "outputs": [],
      "source": [
        "result = pd.merge(result, initial_Value[['馬番', '馬名']],left_index=True, right_index=True).sort_values(by=\"出遅れる\", ascending=False)"
      ]
    },
    {
      "cell_type": "code",
      "execution_count": null,
      "metadata": {},
      "outputs": [
        {
          "name": "stdout",
          "output_type": "stream",
          "text": [
            "0x1fa84\n"
          ]
        }
      ],
      "source": [
        "\n",
        "print(hex(ord(\"🪄\"))) "
      ]
    },
    {
      "cell_type": "code",
      "execution_count": null,
      "metadata": {},
      "outputs": [
        {
          "name": "stdout",
          "output_type": "stream",
          "text": [
            "東京 11R 出遅れ予測ランキング🎯\n",
            "\n",
            "🥇1位 : 6 メイショウハリオ\n",
            "🥈2位 : 12 セキフウ\n",
            "🥉3位 : 15 レッドルゼル\n",
            "🪄4位 : 3 ケンシンコウ\n",
            "🪄5位 : 9 ショウナンナデシコ\n",
            "\n",
            "RTしてくださった方には確率数値をプレゼントします！\n",
            "#東京11R  #競馬 #出遅れ予測\n"
          ]
        }
      ],
      "source": [
        "racePlace = str(url.split('=')[1])[4:6]\n",
        "raceNumber = str(url.split('=')[1])[10:12]\n",
        "\n",
        "racePlaceName = ''\n",
        "if(racePlace == '05'):\n",
        "    print('東京' + ' ' + raceNumber + 'R' + ' 出遅れ予測ランキング🎯')\n",
        "    racePlaceName = '東京'\n",
        "elif(racePlace == '09'):\n",
        "    print('阪神' + ' ' + raceNumber + 'R' + ' 出遅れ予測ランキング🎯')\n",
        "    racePlaceName = '阪神'\n",
        "elif(racePlace == '10'):\n",
        "    print('小倉' + ' ' + raceNumber + 'R' + ' 出遅れ予測ランキング🎯')\n",
        "    racePlaceName = '小倉'\n",
        "print('')\n",
        "\n",
        "count = 0\n",
        "for i in result.itertuples():\n",
        "    count = count + 1\n",
        "    item = ''\n",
        "    if(count == 1):\n",
        "        item = chr(129351)\n",
        "    elif(count == 2):\n",
        "        item = chr(129352)\n",
        "    elif(count == 3):\n",
        "        item = chr(129353)\n",
        "    else:\n",
        "        item = chr(0x1fa84)\n",
        "    \n",
        "    if 0.5 < i.出遅れる:\n",
        "        print(item + str(count) + '位 : '+str(i.馬番) + ' ' +i.馬名+ ' 【危険】')\n",
        "    else:\n",
        "        print(item + str(count) + '位 : '+str(i.馬番) + ' ' +i.馬名)    \n",
        "    if(count == 5): break\n",
        "\n",
        "print('')\n",
        "print('RTしてくださった方には確率数値をプレゼントします！')\n",
        "print('#' + racePlaceName + raceNumber + 'R' + '  #競馬 #出遅れ予測')"
      ]
    },
    {
      "cell_type": "code",
      "execution_count": null,
      "metadata": {},
      "outputs": [],
      "source": [
        "saveStr = 'すみません、失礼します\\n'\n",
        "saveStr = saveStr + '出遅れ予測AIランキングを発表します！\\n\\n'\n",
        "\n",
        "count = 0\n",
        "for i in result.itertuples():\n",
        "    count = count + 1\n",
        "    if 0.5 < i.出遅れる:\n",
        "        saveStr = saveStr  + str(count) + '位 : '+str(i.馬番) + ' ' +i.馬名 + ' 【危険】' + '\\n'\n",
        "    else:\n",
        "        saveStr = saveStr  + str(count) + '位 : '+str(i.馬番) + ' ' +i.馬名 + '\\n'\n",
        "    if(count == 3): break\n",
        "\n",
        "saveStr = saveStr + '\\n皆さんの競馬予想のお役に立てれば幸いです！\\n'\n",
        "saveStr = saveStr + '※危険の文字があったら気を付けてください\\n'\n",
        "saveStr = saveStr + '出遅れ予測AI - ラテイ - '"
      ]
    },
    {
      "cell_type": "code",
      "execution_count": null,
      "metadata": {},
      "outputs": [],
      "source": [
        "# options = Options() \n",
        "# options.add_argument('--disable-gpu')             \n",
        "# options.add_argument('--disable-extensions')       \n",
        "# options.add_argument('--proxy-server=\"direct://\"') \n",
        "# options.add_argument('--proxy-bypass-list=*')      \n",
        "# options.add_argument('--start-maximized')      \n",
        "# driver = Chrome(executable_path=\"\", options=options)\n",
        "\n",
        "# target_url = \"https://regist.netkeiba.com/account/?pid=login\"\n",
        "# driver.get(target_url)\n",
        "# sleep(1)\n",
        "\n",
        "# USERNAME = \"\"\n",
        "# PASSWORD = \n",
        "\n",
        "# username_input = driver.find_elements(By.XPATH,'//*[@id=\"contents\"]/div/form/div/ul/li[1]/input')\n",
        "# username_input[0].send_keys(USERNAME)\n",
        "# sleep(1)\n",
        "\n",
        "# username_input = driver.find_elements(By.XPATH,'//*[@id=\"contents\"]/div/form/div/ul/li[2]/input')\n",
        "# username_input[0].send_keys(PASSWORD)\n",
        "# sleep(1)\n",
        "\n",
        "# username_input = driver.find_elements(By.XPATH,'//*[@id=\"contents\"]/div/form/div/div[1]/input')\n",
        "# username_input[0].click()\n",
        "# sleep(1)\n",
        "\n",
        "# url = 'https://race.netkeiba.com/race/bbs.html?race_id=' + id\n",
        "# driver.get(url)\n",
        "\n",
        "# sleep(1)\n",
        "# username_input = driver.find_elements(By.XPATH,'//*[@id=\"display_comment\"]')\n",
        "# sleep(1)\n",
        "# username_input[0].click()\n",
        "\n",
        "# sleep(1)\n",
        "# username_input = driver.find_elements(By.XPATH,'//*[@id=\"comment\"]')\n",
        "# sleep(1)\n",
        "# username_input[0].click()\n",
        "\n",
        "# sleep(1)\n",
        "# username_input = driver.find_elements(By.XPATH,'//*[@id=\"race_top\"]/div[5]/div/div[2]/div[2]/button')\n",
        "# try:\n",
        "#     sleep(1)\n",
        "#     username_input[0].click()\n",
        "# except Exception:\n",
        "#     print('きた')\n",
        "\n",
        "# sleep(1)\n",
        "# username_input = driver.find_elements(By.XPATH,'//*[@id=\"comment\"]')\n",
        "# sleep(1)\n",
        "# username_input[0].click()\n",
        "# sleep(1)\n",
        "# username_input[0].send_keys(saveStr)\n",
        "\n",
        "# sleep(1)\n",
        "# username_input = driver.find_elements(By.XPATH,'//*[@id=\"Comment_Form\"]/div[3]/a')\n",
        "# sleep(1)\n",
        "# username_input[0].click()\n",
        "\n",
        "\n",
        "\n"
      ]
    },
    {
      "cell_type": "code",
      "execution_count": null,
      "metadata": {},
      "outputs": [
        {
          "name": "stdout",
          "output_type": "stream",
          "text": [
            "東京 11R 出遅れ予測ランキング🎯\n",
            "\n",
            "🥇1位 : 6 メイショウハリオ 35%\n",
            "🥈2位 : 12 セキフウ 28%\n",
            "🥉3位 : 15 レッドルゼル 10%\n",
            "🪄4位 : 3 ケンシンコウ 9%\n",
            "🪄5位 : 9 ショウナンナデシコ 8%\n",
            "\n",
            "RTしてくださった方には確率数値をプレゼントします！\n",
            "#東京11R  #競馬 #出遅れ予測\n"
          ]
        }
      ],
      "source": [
        "racePlace = str(url.split('=')[1])[4:6]\n",
        "raceNumber = str(url.split('=')[1])[10:12]\n",
        "\n",
        "racePlaceName = ''\n",
        "if(racePlace == '05'):\n",
        "    print('東京' + ' ' + raceNumber + 'R' + ' 出遅れ予測ランキング🎯')\n",
        "    racePlaceName = '東京'\n",
        "elif(racePlace == '09'):\n",
        "    print('阪神' + ' ' + raceNumber + 'R' + ' 出遅れ予測ランキング🎯')\n",
        "    racePlaceName = '阪神'\n",
        "elif(racePlace == '10'):\n",
        "    print('小倉' + ' ' + raceNumber + 'R' + ' 出遅れ予測ランキング🎯')\n",
        "    racePlaceName = '小倉'\n",
        "print('')\n",
        "\n",
        "count = 0\n",
        "for i in result.itertuples():\n",
        "    count = count + 1\n",
        "    item = ''\n",
        "    if(count == 1):\n",
        "        item = chr(129351)\n",
        "    elif(count == 2):\n",
        "        item = chr(129352)\n",
        "    elif(count == 3):\n",
        "        item = chr(129353)\n",
        "    else:\n",
        "        item = chr(0x1fa84)\n",
        "    parsent = round(i.出遅れる, 2)\n",
        "    parsent = int(parsent*100)\n",
        "    print(item + str(count) + '位 : '+str(i.馬番) + ' ' +i.馬名 + ' ' + str(parsent) + '%')    \n",
        "    if(count == 5): break\n",
        "\n",
        "print('')\n",
        "print('RTしてくださった方には確率数値をプレゼントします！')\n",
        "print('#' + racePlaceName + raceNumber + 'R' + '  #競馬 #出遅れ予測')"
      ]
    },
    {
      "cell_type": "code",
      "execution_count": null,
      "metadata": {},
      "outputs": [
        {
          "name": "stdout",
          "output_type": "stream",
          "text": [
            "すみません、失礼します\n",
            "出遅れ予測AIランキングを発表します！\n",
            "\n",
            "1位 : 6 メイショウハリオ\n",
            "2位 : 12 セキフウ\n",
            "3位 : 15 レッドルゼル\n",
            "\n",
            "皆さんの競馬予想のお役に立てれば幸いです！\n",
            "※危険の文字があったら気を付けてください\n",
            "出遅れ予測AI - ラテイ - \n"
          ]
        }
      ],
      "source": [
        "print(saveStr)"
      ]
    }
  ],
  "metadata": {
    "kernelspec": {
      "display_name": "Python 3.10.6 64-bit",
      "language": "python",
      "name": "python3"
    },
    "language_info": {
      "codemirror_mode": {
        "name": "ipython",
        "version": 3
      },
      "file_extension": ".py",
      "mimetype": "text/x-python",
      "name": "python",
      "nbconvert_exporter": "python",
      "pygments_lexer": "ipython3",
      "version": "3.10.6"
    },
    "orig_nbformat": 4,
    "vscode": {
      "interpreter": {
        "hash": "b47f45c18499de3d80696c681856b513a5ea4c2414069b55f1d3ac496fdc2728"
      }
    }
  },
  "nbformat": 4,
  "nbformat_minor": 2
}
